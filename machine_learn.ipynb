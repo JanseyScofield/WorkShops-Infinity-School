{
  "nbformat": 4,
  "nbformat_minor": 0,
  "metadata": {
    "colab": {
      "provenance": [],
      "authorship_tag": "ABX9TyMCu6SE8Buz4j7f8Ua472ve",
      "include_colab_link": true
    },
    "kernelspec": {
      "name": "python3",
      "display_name": "Python 3"
    },
    "language_info": {
      "name": "python"
    }
  },
  "cells": [
    {
      "cell_type": "markdown",
      "metadata": {
        "id": "view-in-github",
        "colab_type": "text"
      },
      "source": [
        "<a href=\"https://colab.research.google.com/github/JanseyScofield/WorkShops-Infinity-School/blob/main/machine_learn.ipynb\" target=\"_parent\"><img src=\"https://colab.research.google.com/assets/colab-badge.svg\" alt=\"Open In Colab\"/></a>"
      ]
    },
    {
      "cell_type": "markdown",
      "source": [
        "#Importar bibliotecas para manipulação de dados\n",
        "  "
      ],
      "metadata": {
        "id": "Rb54g7mQDqZS"
      }
    },
    {
      "cell_type": "code",
      "source": [
        "import pandas as pd"
      ],
      "metadata": {
        "id": "9fT6b_jfDfia"
      },
      "execution_count": null,
      "outputs": []
    },
    {
      "cell_type": "markdown",
      "source": [
        "#Carregar os dados de em um DataFrame do Pandas\n"
      ],
      "metadata": {
        "id": "O_f-4V2sHHwE"
      }
    },
    {
      "cell_type": "code",
      "source": [
        "housing = pd.read_csv(\"housing.csv\")"
      ],
      "metadata": {
        "id": "o-FBkmSwHS9z"
      },
      "execution_count": null,
      "outputs": []
    },
    {
      "cell_type": "code",
      "source": [
        "#Data Frame\n",
        "housing.sample(5)"
      ],
      "metadata": {
        "colab": {
          "base_uri": "https://localhost:8080/",
          "height": 206
        },
        "id": "tPjglIqoKET0",
        "outputId": "e97cdbd9-19df-40ad-bfbe-3c376502a601"
      },
      "execution_count": 3,
      "outputs": [
        {
          "output_type": "execute_result",
          "data": {
            "text/plain": [
              "       longitude  latitude  housing_median_age  total_rooms  total_bedrooms  \\\n",
              "10946    -117.88     33.74                25.0       1799.0           557.0   \n",
              "9127     -118.08     34.58                12.0       3851.0           857.0   \n",
              "2897     -119.01     35.38                44.0        434.0           110.0   \n",
              "468      -122.29     37.87                44.0       2539.0           755.0   \n",
              "8429     -118.36     33.92                46.0       1231.0           231.0   \n",
              "\n",
              "       population  households  median_income  median_house_value  \\\n",
              "10946      3416.0       538.0         3.0083            163500.0   \n",
              "9127       2169.0       811.0         3.0101            116300.0   \n",
              "2897        274.0        86.0         1.1944             57500.0   \n",
              "468        1382.0       713.0         2.5370            175000.0   \n",
              "8429        793.0       256.0         4.1023            226800.0   \n",
              "\n",
              "      ocean_proximity  \n",
              "10946       <1H OCEAN  \n",
              "9127           INLAND  \n",
              "2897           INLAND  \n",
              "468          NEAR BAY  \n",
              "8429        <1H OCEAN  "
            ],
            "text/html": [
              "\n",
              "  <div id=\"df-e872a084-6d40-4c2a-ac6d-66b7f27fe208\" class=\"colab-df-container\">\n",
              "    <div>\n",
              "<style scoped>\n",
              "    .dataframe tbody tr th:only-of-type {\n",
              "        vertical-align: middle;\n",
              "    }\n",
              "\n",
              "    .dataframe tbody tr th {\n",
              "        vertical-align: top;\n",
              "    }\n",
              "\n",
              "    .dataframe thead th {\n",
              "        text-align: right;\n",
              "    }\n",
              "</style>\n",
              "<table border=\"1\" class=\"dataframe\">\n",
              "  <thead>\n",
              "    <tr style=\"text-align: right;\">\n",
              "      <th></th>\n",
              "      <th>longitude</th>\n",
              "      <th>latitude</th>\n",
              "      <th>housing_median_age</th>\n",
              "      <th>total_rooms</th>\n",
              "      <th>total_bedrooms</th>\n",
              "      <th>population</th>\n",
              "      <th>households</th>\n",
              "      <th>median_income</th>\n",
              "      <th>median_house_value</th>\n",
              "      <th>ocean_proximity</th>\n",
              "    </tr>\n",
              "  </thead>\n",
              "  <tbody>\n",
              "    <tr>\n",
              "      <th>10946</th>\n",
              "      <td>-117.88</td>\n",
              "      <td>33.74</td>\n",
              "      <td>25.0</td>\n",
              "      <td>1799.0</td>\n",
              "      <td>557.0</td>\n",
              "      <td>3416.0</td>\n",
              "      <td>538.0</td>\n",
              "      <td>3.0083</td>\n",
              "      <td>163500.0</td>\n",
              "      <td>&lt;1H OCEAN</td>\n",
              "    </tr>\n",
              "    <tr>\n",
              "      <th>9127</th>\n",
              "      <td>-118.08</td>\n",
              "      <td>34.58</td>\n",
              "      <td>12.0</td>\n",
              "      <td>3851.0</td>\n",
              "      <td>857.0</td>\n",
              "      <td>2169.0</td>\n",
              "      <td>811.0</td>\n",
              "      <td>3.0101</td>\n",
              "      <td>116300.0</td>\n",
              "      <td>INLAND</td>\n",
              "    </tr>\n",
              "    <tr>\n",
              "      <th>2897</th>\n",
              "      <td>-119.01</td>\n",
              "      <td>35.38</td>\n",
              "      <td>44.0</td>\n",
              "      <td>434.0</td>\n",
              "      <td>110.0</td>\n",
              "      <td>274.0</td>\n",
              "      <td>86.0</td>\n",
              "      <td>1.1944</td>\n",
              "      <td>57500.0</td>\n",
              "      <td>INLAND</td>\n",
              "    </tr>\n",
              "    <tr>\n",
              "      <th>468</th>\n",
              "      <td>-122.29</td>\n",
              "      <td>37.87</td>\n",
              "      <td>44.0</td>\n",
              "      <td>2539.0</td>\n",
              "      <td>755.0</td>\n",
              "      <td>1382.0</td>\n",
              "      <td>713.0</td>\n",
              "      <td>2.5370</td>\n",
              "      <td>175000.0</td>\n",
              "      <td>NEAR BAY</td>\n",
              "    </tr>\n",
              "    <tr>\n",
              "      <th>8429</th>\n",
              "      <td>-118.36</td>\n",
              "      <td>33.92</td>\n",
              "      <td>46.0</td>\n",
              "      <td>1231.0</td>\n",
              "      <td>231.0</td>\n",
              "      <td>793.0</td>\n",
              "      <td>256.0</td>\n",
              "      <td>4.1023</td>\n",
              "      <td>226800.0</td>\n",
              "      <td>&lt;1H OCEAN</td>\n",
              "    </tr>\n",
              "  </tbody>\n",
              "</table>\n",
              "</div>\n",
              "    <div class=\"colab-df-buttons\">\n",
              "\n",
              "  <div class=\"colab-df-container\">\n",
              "    <button class=\"colab-df-convert\" onclick=\"convertToInteractive('df-e872a084-6d40-4c2a-ac6d-66b7f27fe208')\"\n",
              "            title=\"Convert this dataframe to an interactive table.\"\n",
              "            style=\"display:none;\">\n",
              "\n",
              "  <svg xmlns=\"http://www.w3.org/2000/svg\" height=\"24px\" viewBox=\"0 -960 960 960\">\n",
              "    <path d=\"M120-120v-720h720v720H120Zm60-500h600v-160H180v160Zm220 220h160v-160H400v160Zm0 220h160v-160H400v160ZM180-400h160v-160H180v160Zm440 0h160v-160H620v160ZM180-180h160v-160H180v160Zm440 0h160v-160H620v160Z\"/>\n",
              "  </svg>\n",
              "    </button>\n",
              "\n",
              "  <style>\n",
              "    .colab-df-container {\n",
              "      display:flex;\n",
              "      gap: 12px;\n",
              "    }\n",
              "\n",
              "    .colab-df-convert {\n",
              "      background-color: #E8F0FE;\n",
              "      border: none;\n",
              "      border-radius: 50%;\n",
              "      cursor: pointer;\n",
              "      display: none;\n",
              "      fill: #1967D2;\n",
              "      height: 32px;\n",
              "      padding: 0 0 0 0;\n",
              "      width: 32px;\n",
              "    }\n",
              "\n",
              "    .colab-df-convert:hover {\n",
              "      background-color: #E2EBFA;\n",
              "      box-shadow: 0px 1px 2px rgba(60, 64, 67, 0.3), 0px 1px 3px 1px rgba(60, 64, 67, 0.15);\n",
              "      fill: #174EA6;\n",
              "    }\n",
              "\n",
              "    .colab-df-buttons div {\n",
              "      margin-bottom: 4px;\n",
              "    }\n",
              "\n",
              "    [theme=dark] .colab-df-convert {\n",
              "      background-color: #3B4455;\n",
              "      fill: #D2E3FC;\n",
              "    }\n",
              "\n",
              "    [theme=dark] .colab-df-convert:hover {\n",
              "      background-color: #434B5C;\n",
              "      box-shadow: 0px 1px 3px 1px rgba(0, 0, 0, 0.15);\n",
              "      filter: drop-shadow(0px 1px 2px rgba(0, 0, 0, 0.3));\n",
              "      fill: #FFFFFF;\n",
              "    }\n",
              "  </style>\n",
              "\n",
              "    <script>\n",
              "      const buttonEl =\n",
              "        document.querySelector('#df-e872a084-6d40-4c2a-ac6d-66b7f27fe208 button.colab-df-convert');\n",
              "      buttonEl.style.display =\n",
              "        google.colab.kernel.accessAllowed ? 'block' : 'none';\n",
              "\n",
              "      async function convertToInteractive(key) {\n",
              "        const element = document.querySelector('#df-e872a084-6d40-4c2a-ac6d-66b7f27fe208');\n",
              "        const dataTable =\n",
              "          await google.colab.kernel.invokeFunction('convertToInteractive',\n",
              "                                                    [key], {});\n",
              "        if (!dataTable) return;\n",
              "\n",
              "        const docLinkHtml = 'Like what you see? Visit the ' +\n",
              "          '<a target=\"_blank\" href=https://colab.research.google.com/notebooks/data_table.ipynb>data table notebook</a>'\n",
              "          + ' to learn more about interactive tables.';\n",
              "        element.innerHTML = '';\n",
              "        dataTable['output_type'] = 'display_data';\n",
              "        await google.colab.output.renderOutput(dataTable, element);\n",
              "        const docLink = document.createElement('div');\n",
              "        docLink.innerHTML = docLinkHtml;\n",
              "        element.appendChild(docLink);\n",
              "      }\n",
              "    </script>\n",
              "  </div>\n",
              "\n",
              "\n",
              "<div id=\"df-20f4cfe4-1a61-4903-9650-6c28132f2792\">\n",
              "  <button class=\"colab-df-quickchart\" onclick=\"quickchart('df-20f4cfe4-1a61-4903-9650-6c28132f2792')\"\n",
              "            title=\"Suggest charts\"\n",
              "            style=\"display:none;\">\n",
              "\n",
              "<svg xmlns=\"http://www.w3.org/2000/svg\" height=\"24px\"viewBox=\"0 0 24 24\"\n",
              "     width=\"24px\">\n",
              "    <g>\n",
              "        <path d=\"M19 3H5c-1.1 0-2 .9-2 2v14c0 1.1.9 2 2 2h14c1.1 0 2-.9 2-2V5c0-1.1-.9-2-2-2zM9 17H7v-7h2v7zm4 0h-2V7h2v10zm4 0h-2v-4h2v4z\"/>\n",
              "    </g>\n",
              "</svg>\n",
              "  </button>\n",
              "\n",
              "<style>\n",
              "  .colab-df-quickchart {\n",
              "      --bg-color: #E8F0FE;\n",
              "      --fill-color: #1967D2;\n",
              "      --hover-bg-color: #E2EBFA;\n",
              "      --hover-fill-color: #174EA6;\n",
              "      --disabled-fill-color: #AAA;\n",
              "      --disabled-bg-color: #DDD;\n",
              "  }\n",
              "\n",
              "  [theme=dark] .colab-df-quickchart {\n",
              "      --bg-color: #3B4455;\n",
              "      --fill-color: #D2E3FC;\n",
              "      --hover-bg-color: #434B5C;\n",
              "      --hover-fill-color: #FFFFFF;\n",
              "      --disabled-bg-color: #3B4455;\n",
              "      --disabled-fill-color: #666;\n",
              "  }\n",
              "\n",
              "  .colab-df-quickchart {\n",
              "    background-color: var(--bg-color);\n",
              "    border: none;\n",
              "    border-radius: 50%;\n",
              "    cursor: pointer;\n",
              "    display: none;\n",
              "    fill: var(--fill-color);\n",
              "    height: 32px;\n",
              "    padding: 0;\n",
              "    width: 32px;\n",
              "  }\n",
              "\n",
              "  .colab-df-quickchart:hover {\n",
              "    background-color: var(--hover-bg-color);\n",
              "    box-shadow: 0 1px 2px rgba(60, 64, 67, 0.3), 0 1px 3px 1px rgba(60, 64, 67, 0.15);\n",
              "    fill: var(--button-hover-fill-color);\n",
              "  }\n",
              "\n",
              "  .colab-df-quickchart-complete:disabled,\n",
              "  .colab-df-quickchart-complete:disabled:hover {\n",
              "    background-color: var(--disabled-bg-color);\n",
              "    fill: var(--disabled-fill-color);\n",
              "    box-shadow: none;\n",
              "  }\n",
              "\n",
              "  .colab-df-spinner {\n",
              "    border: 2px solid var(--fill-color);\n",
              "    border-color: transparent;\n",
              "    border-bottom-color: var(--fill-color);\n",
              "    animation:\n",
              "      spin 1s steps(1) infinite;\n",
              "  }\n",
              "\n",
              "  @keyframes spin {\n",
              "    0% {\n",
              "      border-color: transparent;\n",
              "      border-bottom-color: var(--fill-color);\n",
              "      border-left-color: var(--fill-color);\n",
              "    }\n",
              "    20% {\n",
              "      border-color: transparent;\n",
              "      border-left-color: var(--fill-color);\n",
              "      border-top-color: var(--fill-color);\n",
              "    }\n",
              "    30% {\n",
              "      border-color: transparent;\n",
              "      border-left-color: var(--fill-color);\n",
              "      border-top-color: var(--fill-color);\n",
              "      border-right-color: var(--fill-color);\n",
              "    }\n",
              "    40% {\n",
              "      border-color: transparent;\n",
              "      border-right-color: var(--fill-color);\n",
              "      border-top-color: var(--fill-color);\n",
              "    }\n",
              "    60% {\n",
              "      border-color: transparent;\n",
              "      border-right-color: var(--fill-color);\n",
              "    }\n",
              "    80% {\n",
              "      border-color: transparent;\n",
              "      border-right-color: var(--fill-color);\n",
              "      border-bottom-color: var(--fill-color);\n",
              "    }\n",
              "    90% {\n",
              "      border-color: transparent;\n",
              "      border-bottom-color: var(--fill-color);\n",
              "    }\n",
              "  }\n",
              "</style>\n",
              "\n",
              "  <script>\n",
              "    async function quickchart(key) {\n",
              "      const quickchartButtonEl =\n",
              "        document.querySelector('#' + key + ' button');\n",
              "      quickchartButtonEl.disabled = true;  // To prevent multiple clicks.\n",
              "      quickchartButtonEl.classList.add('colab-df-spinner');\n",
              "      try {\n",
              "        const charts = await google.colab.kernel.invokeFunction(\n",
              "            'suggestCharts', [key], {});\n",
              "      } catch (error) {\n",
              "        console.error('Error during call to suggestCharts:', error);\n",
              "      }\n",
              "      quickchartButtonEl.classList.remove('colab-df-spinner');\n",
              "      quickchartButtonEl.classList.add('colab-df-quickchart-complete');\n",
              "    }\n",
              "    (() => {\n",
              "      let quickchartButtonEl =\n",
              "        document.querySelector('#df-20f4cfe4-1a61-4903-9650-6c28132f2792 button');\n",
              "      quickchartButtonEl.style.display =\n",
              "        google.colab.kernel.accessAllowed ? 'block' : 'none';\n",
              "    })();\n",
              "  </script>\n",
              "</div>\n",
              "\n",
              "    </div>\n",
              "  </div>\n"
            ],
            "application/vnd.google.colaboratory.intrinsic+json": {
              "type": "dataframe",
              "summary": "{\n  \"name\": \"housing\",\n  \"rows\": 5,\n  \"fields\": [\n    {\n      \"column\": \"longitude\",\n      \"properties\": {\n        \"dtype\": \"number\",\n        \"std\": 1.8205576068886185,\n        \"min\": -122.29,\n        \"max\": -117.88,\n        \"num_unique_values\": 5,\n        \"samples\": [\n          -118.08,\n          -118.36,\n          -119.01\n        ],\n        \"semantic_type\": \"\",\n        \"description\": \"\"\n      }\n    },\n    {\n      \"column\": \"latitude\",\n      \"properties\": {\n        \"dtype\": \"number\",\n        \"std\": 1.6780703203382137,\n        \"min\": 33.74,\n        \"max\": 37.87,\n        \"num_unique_values\": 5,\n        \"samples\": [\n          34.58,\n          33.92,\n          35.38\n        ],\n        \"semantic_type\": \"\",\n        \"description\": \"\"\n      }\n    },\n    {\n      \"column\": \"housing_median_age\",\n      \"properties\": {\n        \"dtype\": \"number\",\n        \"std\": 15.073154945133417,\n        \"min\": 12.0,\n        \"max\": 46.0,\n        \"num_unique_values\": 4,\n        \"samples\": [\n          12.0,\n          46.0,\n          25.0\n        ],\n        \"semantic_type\": \"\",\n        \"description\": \"\"\n      }\n    },\n    {\n      \"column\": \"total_rooms\",\n      \"properties\": {\n        \"dtype\": \"number\",\n        \"std\": 1303.5122554084408,\n        \"min\": 434.0,\n        \"max\": 3851.0,\n        \"num_unique_values\": 5,\n        \"samples\": [\n          3851.0,\n          1231.0,\n          434.0\n        ],\n        \"semantic_type\": \"\",\n        \"description\": \"\"\n      }\n    },\n    {\n      \"column\": \"total_bedrooms\",\n      \"properties\": {\n        \"dtype\": \"number\",\n        \"std\": 324.100293119275,\n        \"min\": 110.0,\n        \"max\": 857.0,\n        \"num_unique_values\": 5,\n        \"samples\": [\n          857.0,\n          231.0,\n          110.0\n        ],\n        \"semantic_type\": \"\",\n        \"description\": \"\"\n      }\n    },\n    {\n      \"column\": \"population\",\n      \"properties\": {\n        \"dtype\": \"number\",\n        \"std\": 1232.7240972740008,\n        \"min\": 274.0,\n        \"max\": 3416.0,\n        \"num_unique_values\": 5,\n        \"samples\": [\n          2169.0,\n          793.0,\n          274.0\n        ],\n        \"semantic_type\": \"\",\n        \"description\": \"\"\n      }\n    },\n    {\n      \"column\": \"households\",\n      \"properties\": {\n        \"dtype\": \"number\",\n        \"std\": 305.21418708834625,\n        \"min\": 86.0,\n        \"max\": 811.0,\n        \"num_unique_values\": 5,\n        \"samples\": [\n          811.0,\n          256.0,\n          86.0\n        ],\n        \"semantic_type\": \"\",\n        \"description\": \"\"\n      }\n    },\n    {\n      \"column\": \"median_income\",\n      \"properties\": {\n        \"dtype\": \"number\",\n        \"std\": 1.0519341314930322,\n        \"min\": 1.1944,\n        \"max\": 4.1023,\n        \"num_unique_values\": 5,\n        \"samples\": [\n          3.0101,\n          4.1023,\n          1.1944\n        ],\n        \"semantic_type\": \"\",\n        \"description\": \"\"\n      }\n    },\n    {\n      \"column\": \"median_house_value\",\n      \"properties\": {\n        \"dtype\": \"number\",\n        \"std\": 63979.81713009189,\n        \"min\": 57500.0,\n        \"max\": 226800.0,\n        \"num_unique_values\": 5,\n        \"samples\": [\n          116300.0,\n          226800.0,\n          57500.0\n        ],\n        \"semantic_type\": \"\",\n        \"description\": \"\"\n      }\n    },\n    {\n      \"column\": \"ocean_proximity\",\n      \"properties\": {\n        \"dtype\": \"string\",\n        \"num_unique_values\": 3,\n        \"samples\": [\n          \"<1H OCEAN\",\n          \"INLAND\",\n          \"NEAR BAY\"\n        ],\n        \"semantic_type\": \"\",\n        \"description\": \"\"\n      }\n    }\n  ]\n}"
            }
          },
          "metadata": {},
          "execution_count": 3
        }
      ]
    },
    {
      "cell_type": "markdown",
      "source": [
        "#Ciência da Dados(Análise Exploratória de Dados)\n"
      ],
      "metadata": {
        "id": "IUxEu5STKc8N"
      }
    },
    {
      "cell_type": "code",
      "source": [
        "housing.head()"
      ],
      "metadata": {
        "id": "bshxScv2KmM9"
      },
      "execution_count": null,
      "outputs": []
    },
    {
      "cell_type": "markdown",
      "source": [
        "Obter informações sobre DataFrame"
      ],
      "metadata": {
        "id": "fxXQ4-4PL0IG"
      }
    },
    {
      "cell_type": "code",
      "source": [
        "housing.info()"
      ],
      "metadata": {
        "id": "pKqXxusFL-X9"
      },
      "execution_count": null,
      "outputs": []
    },
    {
      "cell_type": "markdown",
      "source": [
        "Verificar a distribuição da coluna 'ocean_proximity'"
      ],
      "metadata": {
        "id": "vlSeM83ONl8Q"
      }
    },
    {
      "cell_type": "code",
      "source": [
        "housing[\"ocean_proximity\"].value_counts()"
      ],
      "metadata": {
        "id": "hSOWM9jSNu9g"
      },
      "execution_count": null,
      "outputs": []
    },
    {
      "cell_type": "markdown",
      "source": [
        "Descrever as estatísticas dos atributos numéricos"
      ],
      "metadata": {
        "id": "23Douc3ROm2A"
      }
    },
    {
      "cell_type": "code",
      "source": [
        "estat = housing.describe()"
      ],
      "metadata": {
        "id": "zXPWmLU_Otlv"
      },
      "execution_count": 16,
      "outputs": []
    },
    {
      "cell_type": "code",
      "source": [
        "print(estat[\"longitude\"])"
      ],
      "metadata": {
        "colab": {
          "base_uri": "https://localhost:8080/"
        },
        "id": "4wUuKwwmO56X",
        "outputId": "4abd93ef-b40b-4bef-c284-0e60e76ece2c"
      },
      "execution_count": 17,
      "outputs": [
        {
          "output_type": "stream",
          "name": "stdout",
          "text": [
            "count    20640.000000\n",
            "mean      -119.569704\n",
            "std          2.003532\n",
            "min       -124.350000\n",
            "25%       -121.800000\n",
            "50%       -118.490000\n",
            "75%       -118.010000\n",
            "max       -114.310000\n",
            "Name: longitude, dtype: float64\n"
          ]
        }
      ]
    },
    {
      "cell_type": "code",
      "source": [
        "print(housing.describe()[\"population\"])"
      ],
      "metadata": {
        "colab": {
          "base_uri": "https://localhost:8080/"
        },
        "id": "7LH91FEfQu3d",
        "outputId": "f2123aa2-9b2d-4d25-b72c-e4991bafc6ab"
      },
      "execution_count": 19,
      "outputs": [
        {
          "output_type": "stream",
          "name": "stdout",
          "text": [
            "count    20640.000000\n",
            "mean      1425.476744\n",
            "std       1132.462122\n",
            "min          3.000000\n",
            "25%        787.000000\n",
            "50%       1166.000000\n",
            "75%       1725.000000\n",
            "max      35682.000000\n",
            "Name: population, dtype: float64\n"
          ]
        }
      ]
    },
    {
      "cell_type": "markdown",
      "source": [],
      "metadata": {
        "id": "2vvgW1FbRJ1S"
      }
    },
    {
      "cell_type": "markdown",
      "source": [
        "#Visualização dos Dados (Gráficos)"
      ],
      "metadata": {
        "id": "1rrqx0PYRN_w"
      }
    },
    {
      "cell_type": "markdown",
      "source": [
        "Importando o matplot"
      ],
      "metadata": {
        "id": "oGqTkRsiRWwA"
      }
    },
    {
      "cell_type": "code",
      "source": [
        "import matplotlib.pyplot as plt\n"
      ],
      "metadata": {
        "id": "B3_6stklRUqY"
      },
      "execution_count": 20,
      "outputs": []
    },
    {
      "cell_type": "code",
      "source": [
        "housing.hist(bins=50, figsize=(20,15))\n",
        "plt.show()"
      ],
      "metadata": {
        "id": "afQa6YjvRckQ"
      },
      "execution_count": null,
      "outputs": []
    },
    {
      "cell_type": "markdown",
      "source": [
        "#Tratamento de Dados"
      ],
      "metadata": {
        "id": "0ul0cABnTfwX"
      }
    },
    {
      "cell_type": "markdown",
      "source": [
        "1) Valores ausentes:"
      ],
      "metadata": {
        "id": "Cfip_yQTTjza"
      }
    },
    {
      "cell_type": "code",
      "source": [
        "missing_values = housing.isnull().sum()\n",
        "print(missing_values)"
      ],
      "metadata": {
        "id": "y9YfsbLrTnWx"
      },
      "execution_count": null,
      "outputs": []
    },
    {
      "cell_type": "markdown",
      "source": [
        "Preencher valores com a mediana"
      ],
      "metadata": {
        "id": "r-du6-jwU44i"
      }
    },
    {
      "cell_type": "code",
      "source": [
        "median = housing[\"total_bedrooms\"].median()\n",
        "print(median)\n",
        "housing[\"total_bedrooms\"].fillna(median, inplace=True)"
      ],
      "metadata": {
        "colab": {
          "base_uri": "https://localhost:8080/"
        },
        "id": "X32AlMExU-3i",
        "outputId": "9e87754a-a3d1-4e70-95a2-fe161b612ac4"
      },
      "execution_count": 24,
      "outputs": [
        {
          "output_type": "stream",
          "name": "stdout",
          "text": [
            "435.0\n"
          ]
        }
      ]
    },
    {
      "cell_type": "code",
      "source": [
        "missing_values_after_fill = housing.isnull().sum()\n",
        "print(missing_values_after_fill)"
      ],
      "metadata": {
        "id": "cxJYyt4uV1nH"
      },
      "execution_count": null,
      "outputs": []
    },
    {
      "cell_type": "markdown",
      "source": [
        "2) Usando 'one-hot encoding'"
      ],
      "metadata": {
        "id": "wPQfvEhRWgzY"
      }
    },
    {
      "cell_type": "code",
      "source": [
        "#Codificação one-hot para variável categórica 'ocean_proximity'\n",
        "housing_encoded = pd.get_dummies(housing, columns=[\"ocean_proximity\"])\n",
        "housing_encoded.sample(5)"
      ],
      "metadata": {
        "id": "BEMomRcIWpUo"
      },
      "execution_count": null,
      "outputs": []
    },
    {
      "cell_type": "markdown",
      "source": [
        "3)Normalização das Features"
      ],
      "metadata": {
        "id": "OCV9rZFWYf38"
      }
    },
    {
      "cell_type": "code",
      "source": [
        "#Esta classe é utilizada para realizar a normalização dos dados.\n",
        "from sklearn.preprocessing import MinMaxScaler"
      ],
      "metadata": {
        "id": "vlmhsryWY-3U"
      },
      "execution_count": 28,
      "outputs": []
    },
    {
      "cell_type": "code",
      "source": [
        "#Este objeto será usado para aplicar a transformação de normalização aos seus dados.\n",
        "scalr = MinMaxScaler()"
      ],
      "metadata": {
        "id": "OAEL6PxSZRmk"
      },
      "execution_count": 29,
      "outputs": []
    }
  ]
}